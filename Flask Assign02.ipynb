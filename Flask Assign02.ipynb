{
 "cells": [
  {
   "cell_type": "code",
   "execution_count": 1,
   "id": "8b1ab43b-30fc-4e54-8095-9d63247b8f90",
   "metadata": {},
   "outputs": [],
   "source": [
    "#Q1. Explain GET and POST methods."
   ]
  },
  {
   "cell_type": "code",
   "execution_count": 2,
   "id": "9d6722f4-2e3b-4cab-8715-6f394ffd89f9",
   "metadata": {},
   "outputs": [],
   "source": [
    "#GET\tThe most common method. A GET message is send, and the server returns data\n",
    "#POST\tUsed to send HTML form data to the server. The data received by the POST method is not cached by the server."
   ]
  },
  {
   "cell_type": "code",
   "execution_count": 3,
   "id": "9e25521b-1fad-4bf7-ae05-1e8f62305a05",
   "metadata": {},
   "outputs": [],
   "source": [
    "#Q2. Why is request used in Flask?"
   ]
  },
  {
   "cell_type": "code",
   "execution_count": 4,
   "id": "2c50a54a-6468-4f33-97b8-9572adbd6d2a",
   "metadata": {},
   "outputs": [],
   "source": [
    "#The Flask Request Object is used to perform both sending and \n",
    "#receiving operations from a user's browser to the server and process \n",
    "#the request data from the server."
   ]
  },
  {
   "cell_type": "code",
   "execution_count": 5,
   "id": "fb34e452-f864-429e-ab8a-50ad0ce4ce00",
   "metadata": {},
   "outputs": [],
   "source": [
    "#Q3. Why is redirect() used in Flask?"
   ]
  },
  {
   "cell_type": "code",
   "execution_count": 6,
   "id": "e41faeac-d1a0-4254-bad6-d98006ee09d6",
   "metadata": {},
   "outputs": [],
   "source": [
    "#Flask class has a redirect() function. When called, it returns a response object and redirects the user to another target location with specified status code. location parameter is the URL where response should be redirected."
   ]
  },
  {
   "cell_type": "code",
   "execution_count": 7,
   "id": "17a2ae37-7c0d-4994-a175-2b7299c2c0bf",
   "metadata": {},
   "outputs": [],
   "source": [
    "#Q4. What are templates in Flask? Why is the render_template() function used?"
   ]
  },
  {
   "cell_type": "code",
   "execution_count": 8,
   "id": "2ea67134-d1c4-4d4d-837e-d6ac98ad75ba",
   "metadata": {},
   "outputs": [],
   "source": [
    "#Templates are files that contain static data as well as placeholders \n",
    "#for dynamic data. A template is rendered with specific data to \n",
    "#produce a final document. Flask uses the Jinja template library to \n",
    "#render templates. In your application, you will use templates to \n",
    "#render HTML which will display in the user's browser.\n",
    "\n",
    "#render_template is a Flask function from the flask. templating \n",
    "#package. render_template is used to generate output from a template \n",
    "#file based on the Jinja2 engine that is found in the application's \n",
    "#templates folder."
   ]
  },
  {
   "cell_type": "code",
   "execution_count": 9,
   "id": "aa0ab9ba-f7be-4368-9a3e-68cb95bcbc94",
   "metadata": {},
   "outputs": [],
   "source": [
    "#Q5. Create a simple API. Use Postman to test it. Attach the screenshot of the output in the Jupyter Notebook."
   ]
  }
 ],
 "metadata": {
  "kernelspec": {
   "display_name": "Python 3 (ipykernel)",
   "language": "python",
   "name": "python3"
  },
  "language_info": {
   "codemirror_mode": {
    "name": "ipython",
    "version": 3
   },
   "file_extension": ".py",
   "mimetype": "text/x-python",
   "name": "python",
   "nbconvert_exporter": "python",
   "pygments_lexer": "ipython3",
   "version": "3.10.8"
  }
 },
 "nbformat": 4,
 "nbformat_minor": 5
}
